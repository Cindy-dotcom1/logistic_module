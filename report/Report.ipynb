{
 "cells": [
  {
   "cell_type": "markdown",
   "metadata": {},
   "source": [
    "# Report\n",
    "\n",
    "***\n",
    "> __Authors__ : Cindy Delage, Hanna Bacave, Yassine Mimouni \n",
    "\n",
    "***\n",
    "> Inspired from :\n",
    "- Wikipedia : https://en.wikipedia.org/wiki/Logistic_map\n",
    "- Youtube : https://www.youtube.com/watch?v=ovJcsL7vyrk&app=desktop"
   ]
  },
  {
   "cell_type": "markdown",
   "metadata": {},
   "source": [
    "## Introduction \n",
    "\n",
    "In order to introduce fractals pedagogically, we realised a questionnaire on the basics. So, our introduction will consist to analyse the results to introduce our subject."
   ]
  },
  {
   "cell_type": "code",
   "execution_count": 7,
   "metadata": {},
   "outputs": [],
   "source": [
    "from ipywidgets import interact\n",
    "import seaborn as sns\n",
    "import matplotlib.pyplot as plt\n",
    "import pandas as pd\n",
    "import numpy as np\n",
    "\n",
    "%matplotlib notebook"
   ]
  },
  {
   "cell_type": "code",
   "execution_count": 8,
   "metadata": {},
   "outputs": [],
   "source": [
    "df_lm = pd.read_csv(\"data.csv\")"
   ]
  },
  {
   "cell_type": "markdown",
   "metadata": {},
   "source": [
    "The respondents answered at the eleven following questions :\n",
    "\n",
    "    1/ What do you know about fractals ?\n",
    "    2/ For you, a fractal is ...\n",
    "    3/ The logistic map allows to study ...\n",
    "    4/ Fractals have been introduced by Benoit B. Mandelbrot in ...\n",
    "    5/ Mandelbrot fractal is defined by the equation ...\n",
    "    6/ The link between logistic map and Mandelbrot fractal is ...\n",
    "    7/ The highest dimension to represent fractals is ...\n",
    "    8/ Mandelbrot set is particular because ...\n",
    "    9/ In the equation of Mandelbrot set c is ...\n",
    "    10/ Fractals have been used to ...\n",
    "    11/ For you, do we know everything about fractals ?\n",
    "    \n",
    "On this questions :\n",
    "    - the first consists in choosing a number on a scale from 0 to 10 indicating the knowledge level on the subject of each ;\n",
    "    -  the others consist in picking between thre options \n",
    "the one that seems the most correct. "
   ]
  },
  {
   "cell_type": "markdown",
   "metadata": {},
   "source": [
    "First of all, we are going to start by editing the distribution of knowledge level of the respondents. To do this, we will plot the histogram corresponding to the results of question n°1 on which it is possible to change the range which takes the values, the transparency and the standardization of the values."
   ]
  },
  {
   "cell_type": "code",
   "execution_count": 12,
   "metadata": {},
   "outputs": [],
   "source": [
    "def hist(n_bins=10, density=True):\n",
    "    fig, ax = plt.subplots(1, 1, figsize=(5, 5))\n",
    "    ax.hist(df_lm['What do you know about fractals ?'],\n",
    "            bins=n_bins, density=density, alpha=1)\n",
    "    plt.xlabel('Knowledge level')\n",
    "    plt.ylabel('Proportion')\n",
    "    plt.title(\"Histogram of knowledge level of respondent\")\n",
    "    plt.tight_layout()\n",
    "    plt.show()"
   ]
  },
  {
   "cell_type": "code",
   "execution_count": 13,
   "metadata": {},
   "outputs": [
    {
     "data": {
      "application/vnd.jupyter.widget-view+json": {
       "model_id": "846dc0f875da4b70b474468179e2535a",
       "version_major": 2,
       "version_minor": 0
      },
      "text/plain": [
       "interactive(children=(IntSlider(value=10, description='n_bins', max=50, min=1), Checkbox(value=True, descripti…"
      ]
     },
     "metadata": {},
     "output_type": "display_data"
    },
    {
     "data": {
      "text/plain": [
       "<function __main__.hist(n_bins=10, density=True)>"
      ]
     },
     "execution_count": 13,
     "metadata": {},
     "output_type": "execute_result"
    }
   ],
   "source": [
    "interact(hist, n_bins=(1, 50, 1), density=True)"
   ]
  },
  {
   "cell_type": "markdown",
   "metadata": {},
   "source": [
    "La première question nous permet donc d'établir un premier diagnostic : peu de gens connaissent le monde des fractales. \n",
    "\n",
    "Maintenant, nous allons étudier plus en détail les réponses à chaque question. Nous nous proposons d'effectuer un tableau croisé de la réponse sélectionnée dans le menu déroulant et de la réponse à la question *Que savez-vous sur les fractales ?*."
   ]
  },
  {
   "cell_type": "code",
   "execution_count": null,
   "metadata": {},
   "outputs": [],
   "source": [
    " 4/ Fractals have been introduced by Benoit B. Mandelbrot in ...\n",
    "    5/ Mandelbrot fractal is defined by the equation ...\n",
    "    6/ The link between logistic map and Mandelbrot fractal is ...\n",
    "    7/ The highest dimension to represent fractals is ...\n",
    "    8/ Mandelbrot set is particular because ...\n",
    "    9/ In the equation of Mandelbrot set c is ...\n",
    "    10/ Fractals have been used to ...\n",
    "    11/ For you, do we know everything about fractals ?\n",
    "    "
   ]
  },
  {
   "cell_type": "code",
   "execution_count": 16,
   "metadata": {
    "scrolled": true
   },
   "outputs": [
    {
     "data": {
      "application/vnd.jupyter.widget-view+json": {
       "model_id": "2954c0ce9ad24703b132fd90204a388d",
       "version_major": 2,
       "version_minor": 0
      },
      "text/plain": [
       "interactive(children=(Dropdown(description='answer', options=('For you, a fractal is ...', 'The logistic map a…"
      ]
     },
     "metadata": {},
     "output_type": "display_data"
    }
   ],
   "source": [
    "@interact\n",
    "def crosstab(answer=['For you, a fractal is ...', 'The logistic map allows to study ...', 'Fractals have been introduced by Benoit B. Mandelbrot in ...', 'Mandelbrot fractal is defined by the equation ...','The link between logistic map and Mandelbrot fractal is ...','The highest dimension to represent fractals is ...', 'Mandelbrot set is particular because ...','In the equation of Mandelbrot set c is ...', 'Fractals have been used to ...']):\n",
    "    return(pd.crosstab(df_lm[answer], df_lm['What do you know about fractals ?'], normalize='index')*100)"
   ]
  },
  {
   "cell_type": "markdown",
   "metadata": {},
   "source": [
    "For example, in question 2, we observe that most people think that fractals represent an object whose structure is invariant by change of scale, which is the definition proposed by Benoit B. Mandelbrot in 1975 and not in 1871 as can be seen in the results of question 4."
   ]
  },
  {
   "cell_type": "markdown",
   "metadata": {},
   "source": [
    "So now that we know what a fractal is, let's focus on the logistic equation and its relationship to the Mandelbrot set. Then, in a second and third part, we represent the Mandelbrot fractal in 2D and 3D. "
   ]
  },
  {
   "cell_type": "markdown",
   "metadata": {},
   "source": [
    "## Logistic Map"
   ]
  }
 ],
 "metadata": {
  "kernelspec": {
   "display_name": "Python 3",
   "language": "python",
   "name": "python3"
  },
  "language_info": {
   "codemirror_mode": {
    "name": "ipython",
    "version": 3
   },
   "file_extension": ".py",
   "mimetype": "text/x-python",
   "name": "python",
   "nbconvert_exporter": "python",
   "pygments_lexer": "ipython3",
   "version": "3.7.4"
  },
  "toc": {
   "base_numbering": 1,
   "nav_menu": {},
   "number_sections": false,
   "sideBar": true,
   "skip_h1_title": false,
   "title_cell": "Table of Contents",
   "title_sidebar": "Contents",
   "toc_cell": false,
   "toc_position": {},
   "toc_section_display": true,
   "toc_window_display": true
  }
 },
 "nbformat": 4,
 "nbformat_minor": 2
}
