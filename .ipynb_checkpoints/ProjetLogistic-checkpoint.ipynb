{
 "cells": [
  {
   "cell_type": "code",
   "execution_count": 1,
   "metadata": {},
   "outputs": [],
   "source": [
    "import numpy as np\n",
    "import matplotlib.pyplot as plt\n",
    "%matplotlib inline\n",
    "\n",
    "from ipywidgets import interact"
   ]
  },
  {
   "cell_type": "code",
   "execution_count": 2,
   "metadata": {},
   "outputs": [],
   "source": [
    "def logistic(r, x):\n",
    "    return r * x * (1 - x)"
   ]
  },
  {
   "cell_type": "code",
   "execution_count": 6,
   "metadata": {},
   "outputs": [
    {
     "data": {
      "image/png": "[encoded data removed]",
      "text/plain": [
       "<Figure size 864x432 with 1 Axes>"
      ]
     },
     "metadata": {
      "needs_background": "light"
     },
     "output_type": "display_data"
    },
    {
     "data": {
      "application/vnd.jupyter.widget-view+json": {
       "model_id": "142b0f30133f45c0832bfc7de6a55684",
       "version_major": 2,
       "version_minor": 0
      },
      "text/plain": [
       "interactive(children=(FloatSlider(value=2.0, description='r', max=4.0), FloatSlider(value=2.0, description='x0…"
      ]
     },
     "metadata": {},
     "output_type": "display_data"
    },
    {
     "data": {
      "text/plain": [
       "<function __main__.plot_system(r, x0, n)>"
      ]
     },
     "execution_count": 6,
     "metadata": {},
     "output_type": "execute_result"
    }
   ],
   "source": [
    "def plot_system(r, x0, n):\n",
    "    # Plot the function and the\n",
    "    # y=x diagonal line.\n",
    "    t = np.linspace(0, 1)\n",
    "    ax.plot(t, logistic(r, t), 'k', lw=2)\n",
    "    ax.plot([0, 1], [0, 1], 'k', lw=2)\n",
    "\n",
    "    # Recursively apply y=f(x) and plot two lines:\n",
    "    # (x, x) -> (x, y)\n",
    "    # (x, y) -> (y, y)\n",
    "    x = x0\n",
    "    for i in range(n):\n",
    "        y = logistic(r, x)\n",
    "        # Plot the two lines.\n",
    "        ax.plot([x, x], [x, y], 'k', lw=1)\n",
    "        ax.plot([x, y], [y, y], 'k', lw=1)\n",
    "        # Plot the positions with increasing\n",
    "        # opacity.\n",
    "        ax.plot([x], [y], 'ok', ms=10,\n",
    "                alpha=(i + 1) / n)\n",
    "        x = y\n",
    "\n",
    "    ax.set_xlim(0, 1)\n",
    "    ax.set_ylim(0, 1)\n",
    "    ax.set_title(f\"$r={r:.1f}, \\, x_0={x0:.1f}$\")\n",
    "\n",
    "\n",
    "fig, ax = plt.subplots(1, 1, figsize=(12, 6),\n",
    "                               sharey=True)\n",
    "interact(plot_system, r=(0,4,0.1), x0=(0,4,0.1), n=(10,50, 1))"
   ]
  },
  {
   "cell_type": "code",
   "execution_count": null,
   "metadata": {},
   "outputs": [],
   "source": []
  }
 ],
 "metadata": {
  "kernelspec": {
   "display_name": "Python 3",
   "language": "python",
   "name": "python3"
  },
  "language_info": {
   "codemirror_mode": {
    "name": "ipython",
    "version": 3
   },
   "file_extension": ".py",
   "mimetype": "text/x-python",
   "name": "python",
   "nbconvert_exporter": "python",
   "pygments_lexer": "ipython3",
   "version": "3.7.4"
  },
  "toc": {
   "base_numbering": 1,
   "nav_menu": {},
   "number_sections": true,
   "sideBar": true,
   "skip_h1_title": false,
   "title_cell": "Table of Contents",
   "title_sidebar": "Contents",
   "toc_cell": false,
   "toc_position": {},
   "toc_section_display": true,
   "toc_window_display": false
  }
 },
 "nbformat": 4,
 "nbformat_minor": 2
}
