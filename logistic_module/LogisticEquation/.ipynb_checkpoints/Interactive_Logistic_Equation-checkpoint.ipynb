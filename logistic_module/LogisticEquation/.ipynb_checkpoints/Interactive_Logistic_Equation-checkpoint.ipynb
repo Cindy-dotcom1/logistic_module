{
 "cells": [
  {
   "cell_type": "code",
   "execution_count": null,
   "metadata": {},
   "outputs": [],
   "source": [
    "import numpy as np\n",
    "import matplotlib.pyplot as plt\n",
    "from ipywidgets import interact, interactive, fixed, interact_manual\n",
    "import ipywidgets as widgets\n",
    "from matplotlib import animation\n",
    "import logistic_and_vectorization.py as lv"
   ]
  },
  {
   "cell_type": "code",
   "execution_count": null,
   "metadata": {},
   "outputs": [],
   "source": [
    "%matplotlib notebook"
   ]
  },
  {
   "cell_type": "code",
   "execution_count": null,
   "metadata": {},
   "outputs": [],
   "source": [
    "def affichage_interactif(r, x0, n):\n",
    "    fig, ax = plt.subplots(1, 1, figsize=(7, 5), sharey=True)\n",
    "    t = np.linspace(0, 1,n)\n",
    "    ax.plot(t, lv.logistic(r, t), 'k', lw=2)\n",
    "    ax.plot([0, 1], [0, 1], 'b', lw=2)\n",
    "    \n",
    "    x = x0\n",
    "    \n",
    "    for i in range(n):\n",
    "        y = lv.logistic(r, x)\n",
    "        ax.plot([x, x], [x, y], 'r', lw=1)\n",
    "        ax.plot([x, y], [y, y], 'r', lw=1)\n",
    "        ax.plot([x], [y], 'ok', ms=10)\n",
    "        x = y\n",
    "\n",
    "    ax.set_xlim(0, 1)\n",
    "    ax.set_ylim(0, 1)\n",
    "    ax.set_title(f\"$r={r:.1f}, \\, x_0={x0:.1f}$\")\n",
    "\n",
    "interactive(affichage_interactif,{'manual' : True}, r=(0,4,0.1), x0=fixed(0.9), n=fixed(10) )"
   ]
  }
 ],
 "metadata": {
  "kernelspec": {
   "display_name": "Python 3",
   "language": "python",
   "name": "python3"
  },
  "language_info": {
   "codemirror_mode": {
    "name": "ipython",
    "version": 3
   },
   "file_extension": ".py",
   "mimetype": "text/x-python",
   "name": "python",
   "nbconvert_exporter": "python",
   "pygments_lexer": "ipython3",
   "version": "3.7.4"
  },
  "toc": {
   "base_numbering": 1,
   "nav_menu": {},
   "number_sections": true,
   "sideBar": true,
   "skip_h1_title": false,
   "title_cell": "Table of Contents",
   "title_sidebar": "Contents",
   "toc_cell": false,
   "toc_position": {},
   "toc_section_display": true,
   "toc_window_display": false
  }
 },
 "nbformat": 4,
 "nbformat_minor": 2
}
